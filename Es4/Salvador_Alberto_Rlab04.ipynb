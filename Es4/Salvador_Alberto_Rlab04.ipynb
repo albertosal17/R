{
 "cells": [
  {
   "cell_type": "markdown",
   "id": "11b679a6-a323-41dd-b3f5-322b4944362f",
   "metadata": {},
   "source": [
    "## Exercise 1\n",
    "\n",
    "- a well established and diffused method for detecting a disease in blood fails to detect the presence\n",
    "of disease in 15% of the patients that actually have the disease.\n",
    "\n",
    "- A young UniPD startUp has developed an innovative method of screening. During the qualification\n",
    "phase, a random sample of n = 75 patients known to have the disease is screened using the new\n",
    "method"
   ]
  },
  {
   "cell_type": "markdown",
   "id": "ac3a442a-59ef-4377-8080-c9a2d3057631",
   "metadata": {},
   "source": [
    "a) what is the probability distribution of y, the number of times the new method fails to detect the\n",
    "disease ?"
   ]
  },
  {
   "cell_type": "markdown",
   "id": "18872557-54f9-49b0-8270-0ce7c6a2e29b",
   "metadata": {},
   "source": [
    "b)  on the n = 75 patients sample, the new method fails to detect the disease in y = 6 cases. What is\n",
    "the frequentist estimator of the failure probability of the new method ?"
   ]
  },
  {
   "cell_type": "markdown",
   "id": "58ccd36e-62f5-4ad7-a679-51a71c0688f6",
   "metadata": {},
   "source": [
    "c) setup a bayesian computation of the posterior probability, assuming a beta distribution with mean\n",
    "value 0.15 and standard deviation 0.14. Plot the posterior distribution for y, and mark on the plot\n",
    "the mean value and variance"
   ]
  },
  {
   "cell_type": "markdown",
   "id": "6222c64e-fdd8-4f75-ba15-f02578cfd302",
   "metadata": {},
   "source": [
    "d) Perform a test of hypothesis assuming that if the probability of failing to the detect the desease in\n",
    "ill patients is greater or equal than 15%, the new test is no better that the traditional method. Test\n",
    "the sample at a 5% level of significance in the Bayesian way."
   ]
  },
  {
   "cell_type": "markdown",
   "id": "e8dc1166-8b9a-4d86-b372-4011b539b290",
   "metadata": {},
   "source": [
    "e) Perform the same hypothesis test in the classical frequentist way."
   ]
  },
  {
   "cell_type": "code",
   "execution_count": null,
   "id": "0ce51431-c6bc-46d5-939c-678216ca7c1e",
   "metadata": {},
   "outputs": [],
   "source": []
  }
 ],
 "metadata": {
  "kernelspec": {
   "display_name": "R",
   "language": "R",
   "name": "ir"
  },
  "language_info": {
   "codemirror_mode": "r",
   "file_extension": ".r",
   "mimetype": "text/x-r-source",
   "name": "R",
   "pygments_lexer": "r",
   "version": "4.1.2"
  }
 },
 "nbformat": 4,
 "nbformat_minor": 5
}
